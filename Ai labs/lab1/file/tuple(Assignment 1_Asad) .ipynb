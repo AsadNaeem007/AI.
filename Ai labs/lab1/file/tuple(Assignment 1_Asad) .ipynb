{
 "cells": [
  {
   "cell_type": "code",
   "execution_count": 1,
   "id": "49bc939a-b9fe-4330-9466-f3c36dbd9571",
   "metadata": {},
   "outputs": [
    {
     "name": "stdout",
     "output_type": "stream",
     "text": [
      "Asad Naeem\n",
      "Asad\n",
      "Naeem\n",
      "Ali\n"
     ]
    }
   ],
   "source": [
    "mytuple = (\"Asad Naeem\", \"Asad\" ,\"Naeem\" ,\"Ali\")\n",
    "for x in mytuple:\n",
    "    print(x)"
   ]
  },
  {
   "cell_type": "code",
   "execution_count": null,
   "id": "8c5bbf85-d90c-4b29-a1dc-0d13b11a9655",
   "metadata": {},
   "outputs": [],
   "source": []
  }
 ],
 "metadata": {
  "kernelspec": {
   "display_name": "Python 3 (ipykernel)",
   "language": "python",
   "name": "python3"
  },
  "language_info": {
   "codemirror_mode": {
    "name": "ipython",
    "version": 3
   },
   "file_extension": ".py",
   "mimetype": "text/x-python",
   "name": "python",
   "nbconvert_exporter": "python",
   "pygments_lexer": "ipython3",
   "version": "3.13.2"
  }
 },
 "nbformat": 4,
 "nbformat_minor": 5
}
