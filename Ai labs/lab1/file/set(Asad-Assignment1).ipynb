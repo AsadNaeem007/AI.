{
 "cells": [
  {
   "cell_type": "code",
   "execution_count": 1,
   "id": "c833776a-f958-4f3c-8995-35dda6bf949c",
   "metadata": {},
   "outputs": [
    {
     "name": "stdout",
     "output_type": "stream",
     "text": [
      "Ali\n",
      "Naeem\n",
      "Asad\n",
      "Asad Naeem\n"
     ]
    }
   ],
   "source": [
    "thisset = {\"Asad Naeem\", \"Asad\" ,\"Naeem\" ,\"Ali\"}\n",
    "for x in thisset:\n",
    "    print(x)"
   ]
  },
  {
   "cell_type": "code",
   "execution_count": null,
   "id": "d8a7bdf5-65b5-4a44-94f6-a312d2294b71",
   "metadata": {},
   "outputs": [],
   "source": []
  }
 ],
 "metadata": {
  "kernelspec": {
   "display_name": "Python 3 (ipykernel)",
   "language": "python",
   "name": "python3"
  },
  "language_info": {
   "codemirror_mode": {
    "name": "ipython",
    "version": 3
   },
   "file_extension": ".py",
   "mimetype": "text/x-python",
   "name": "python",
   "nbconvert_exporter": "python",
   "pygments_lexer": "ipython3",
   "version": "3.13.2"
  }
 },
 "nbformat": 4,
 "nbformat_minor": 5
}
