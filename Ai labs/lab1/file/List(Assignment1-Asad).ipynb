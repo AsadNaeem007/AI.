{
 "cells": [
  {
   "cell_type": "markdown",
   "id": "5bf446f9-9884-42a4-b2ee-6378eda28d0c",
   "metadata": {},
   "source": [
    "mylist = [\"Asad Naeem\",\"Asad\",\"Naeem\",\"Ali\"]\n",
    "print(mylist)\n"
   ]
  },
  {
   "cell_type": "code",
   "execution_count": 2,
   "id": "a45cf458-b53d-4259-a765-ce7f54c8455b",
   "metadata": {},
   "outputs": [
    {
     "name": "stdout",
     "output_type": "stream",
     "text": [
      "Asad Naeem\n",
      "Asad\n",
      "Naeem\n",
      "Ali\n"
     ]
    }
   ],
   "source": [
    "mylist = [\"Asad Naeem\",\"Asad\",\"Naeem\",\"Ali\"] \n",
    "for x in mylist:\n",
    "    print(mylist)\n",
    "\n"
   ]
  },
  {
   "cell_type": "code",
   "execution_count": 3,
   "id": "b5ca118e-6847-4ad7-ae93-93c9424ef4b1",
   "metadata": {},
   "outputs": [
    {
     "name": "stdout",
     "output_type": "stream",
     "text": [
      "['Asad Naeem', 'Asad', 'Naeem', 'Ali']\n"
     ]
    }
   ],
   "source": [
    "mylist = [\"Asad Naeem\",\"Asad\",\"Naeem\",\"Ali\"] \n",
    "print(mylist)"
   ]
  },
  {
   "cell_type": "code",
   "execution_count": null,
   "id": "a22b6e51-ab49-44a1-a04f-b6f1cc58b022",
   "metadata": {},
   "outputs": [],
   "source": []
  }
 ],
 "metadata": {
  "kernelspec": {
   "display_name": "Python 3 (ipykernel)",
   "language": "python",
   "name": "python3"
  },
  "language_info": {
   "codemirror_mode": {
    "name": "ipython",
    "version": 3
   },
   "file_extension": ".py",
   "mimetype": "text/x-python",
   "name": "python",
   "nbconvert_exporter": "python",
   "pygments_lexer": "ipython3",
   "version": "3.13.2"
  }
 },
 "nbformat": 4,
 "nbformat_minor": 5
}
